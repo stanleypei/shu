{
 "cells": [
  {
   "cell_type": "code",
   "execution_count": 1,
   "metadata": {},
   "outputs": [
    {
     "data": {
      "text/plain": [
       "37.77777777777778"
      ]
     },
     "execution_count": 1,
     "metadata": {},
     "output_type": "execute_result"
    }
   ],
   "source": [
    "#100=a*(9/5)+32\n",
    "(100-32)*5/9"
   ]
  },
  {
   "cell_type": "code",
   "execution_count": 2,
   "metadata": {},
   "outputs": [
    {
     "data": {
      "text/plain": [
       "2745.0"
      ]
     },
     "execution_count": 2,
     "metadata": {},
     "output_type": "execute_result"
    }
   ],
   "source": [
    "#1meet=30.5cm\n",
    "90*30.5"
   ]
  },
  {
   "cell_type": "code",
   "execution_count": 8,
   "metadata": {},
   "outputs": [
    {
     "name": "stdout",
     "output_type": "stream",
     "text": [
      "Hello,Python\n",
      "Hello,Python\n",
      "Hello,Python!\n"
     ]
    }
   ],
   "source": [
    "print(\"Hello,Python\")\n",
    "print('Hello,Python')\n",
    "print('Hello,Python!')"
   ]
  },
  {
   "cell_type": "code",
   "execution_count": 9,
   "metadata": {
    "scrolled": true
   },
   "outputs": [
    {
     "name": "stdout",
     "output_type": "stream",
     "text": [
      "Hello,Python\n",
      "Hello,Python\n",
      "Hello,Python\n"
     ]
    }
   ],
   "source": [
    "print(\"Hello,Python\")\n",
    "print('Hello,Python')\n",
    "print('Hello,Python');"
   ]
  },
  {
   "cell_type": "code",
   "execution_count": 16,
   "metadata": {},
   "outputs": [
    {
     "name": "stdout",
     "output_type": "stream",
     "text": [
      "Fathrenheit 212 is Celsius degree\n",
      "85.77777777777779\n"
     ]
    }
   ],
   "source": [
    "#Convert Fathernheit Ceisius\n",
    "print('Fathrenheit 212 is Celsius degree')\n",
    "print(5/9*212-32)"
   ]
  },
  {
   "cell_type": "code",
   "execution_count": 17,
   "metadata": {},
   "outputs": [
    {
     "name": "stdout",
     "output_type": "stream",
     "text": [
      "Learning Python now!\n",
      "Python is fun\n",
      "Python is a good programming language\n"
     ]
    }
   ],
   "source": [
    "print('Learning Python now!')\n",
    "print('Python is fun')\n",
    "print('Python is a good programming language')"
   ]
  },
  {
   "cell_type": "code",
   "execution_count": 18,
   "metadata": {},
   "outputs": [
    {
     "name": "stdout",
     "output_type": "stream",
     "text": [
      "我的第一個Python程式\n",
      "Python is fun!\n",
      "Learing Python now!\n"
     ]
    }
   ],
   "source": [
    "print('我的第一個Python程式')\n",
    "print('Python is fun!')\n",
    "print('Learing Python now!')"
   ]
  },
  {
   "cell_type": "code",
   "execution_count": null,
   "metadata": {},
   "outputs": [],
   "source": []
  },
  {
   "cell_type": "code",
   "execution_count": null,
   "metadata": {},
   "outputs": [],
   "source": []
  },
  {
   "cell_type": "code",
   "execution_count": null,
   "metadata": {},
   "outputs": [],
   "source": []
  }
 ],
 "metadata": {
  "kernelspec": {
   "display_name": "Python 3",
   "language": "python",
   "name": "python3"
  },
  "language_info": {
   "codemirror_mode": {
    "name": "ipython",
    "version": 3
   },
   "file_extension": ".py",
   "mimetype": "text/x-python",
   "name": "python",
   "nbconvert_exporter": "python",
   "pygments_lexer": "ipython3",
   "version": "3.8.3"
  }
 },
 "nbformat": 4,
 "nbformat_minor": 4
}
