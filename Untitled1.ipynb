{
 "cells": [
  {
   "cell_type": "code",
   "execution_count": 7,
   "metadata": {},
   "outputs": [
    {
     "name": "stdout",
     "output_type": "stream",
     "text": [
      "|     12345        12   1234567|\n",
      "|        12   1234567       123|\n",
      "|   1234567       123     12345|\n"
     ]
    }
   ],
   "source": [
    "print(\"|%10d %9d %9d|\" %(12345,12,1234567))\n",
    "print('|%10d %9d %9d|' %(12,1234567,123))\n",
    "print('|%10d %9d %9d|' %(1234567,123,12345))"
   ]
  },
  {
   "cell_type": "code",
   "execution_count": 9,
   "metadata": {},
   "outputs": [
    {
     "name": "stdout",
     "output_type": "stream",
     "text": [
      "Department  \n",
      "of          \n",
      "Computer    \n",
      "Science     \n",
      "\n"
     ]
    }
   ],
   "source": [
    "print(format('Department','12s'))\n",
    "print(format('of','12s'))\n",
    "print(format('Computer','12s'))\n",
    "print(format('Science','12s'))\n",
    "print()"
   ]
  },
  {
   "cell_type": "code",
   "execution_count": 10,
   "metadata": {},
   "outputs": [
    {
     "name": "stdout",
     "output_type": "stream",
     "text": [
      "  Department\n",
      "          of\n",
      "    Computer\n",
      "     Science\n"
     ]
    }
   ],
   "source": [
    "print(format('Department','>12s'))\n",
    "print(format('of','>12s'))\n",
    "print(format('Computer','>12s'))\n",
    "print(format('Science','>12s'))"
   ]
  },
  {
   "cell_type": "code",
   "execution_count": null,
   "metadata": {},
   "outputs": [],
   "source": [
    "print(format)"
   ]
  }
 ],
 "metadata": {
  "kernelspec": {
   "display_name": "Python 3",
   "language": "python",
   "name": "python3"
  },
  "language_info": {
   "codemirror_mode": {
    "name": "ipython",
    "version": 3
   },
   "file_extension": ".py",
   "mimetype": "text/x-python",
   "name": "python",
   "nbconvert_exporter": "python",
   "pygments_lexer": "ipython3",
   "version": "3.8.3"
  }
 },
 "nbformat": 4,
 "nbformat_minor": 4
}
