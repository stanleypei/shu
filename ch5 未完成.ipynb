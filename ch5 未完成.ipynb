{
 "cells": [
  {
   "cell_type": "code",
   "execution_count": 1,
   "metadata": {},
   "outputs": [
    {
     "name": "stdout",
     "output_type": "stream",
     "text": [
      "X=70\n"
     ]
    }
   ],
   "source": [
    "#5-5.py\n",
    "X=65\n",
    "if X>60:\n",
    "    X=X+5\n",
    "print('X=%d'%(X))"
   ]
  },
  {
   "cell_type": "code",
   "execution_count": 5,
   "metadata": {},
   "outputs": [
    {
     "ename": "SyntaxError",
     "evalue": "invalid syntax (<ipython-input-5-63803e8e5997>, line 4)",
     "output_type": "error",
     "traceback": [
      "\u001b[1;36m  File \u001b[1;32m\"<ipython-input-5-63803e8e5997>\"\u001b[1;36m, line \u001b[1;32m4\u001b[0m\n\u001b[1;33m    if denominator !=0\u001b[0m\n\u001b[1;37m                      ^\u001b[0m\n\u001b[1;31mSyntaxError\u001b[0m\u001b[1;31m:\u001b[0m invalid syntax\n"
     ]
    }
   ],
   "source": [
    "#5-6-1.py\n",
    "numerator=eval(input('請輸入分子：'))\n",
    "denominator=eval(input('請輸入分母：'))\n",
    "if denominator !=0\n",
    "  ans=numerator/denominator\n",
    "print(numerator,'/',denominator,'=',ans)\n",
    "print('Over')"
   ]
  },
  {
   "cell_type": "code",
   "execution_count": 6,
   "metadata": {},
   "outputs": [
    {
     "ename": "SyntaxError",
     "evalue": "invalid syntax (<ipython-input-6-6a76d71469ad>, line 4)",
     "output_type": "error",
     "traceback": [
      "\u001b[1;36m  File \u001b[1;32m\"<ipython-input-6-6a76d71469ad>\"\u001b[1;36m, line \u001b[1;32m4\u001b[0m\n\u001b[1;33m    if denominator !=0\u001b[0m\n\u001b[1;37m                      ^\u001b[0m\n\u001b[1;31mSyntaxError\u001b[0m\u001b[1;31m:\u001b[0m invalid syntax\n"
     ]
    }
   ],
   "source": [
    "#5-6-2.py\n",
    "numerator=eval(input('請輸入分子：'))\n",
    "denominator=eval(input('請輸入分母：'))\n",
    "if denominator !=0\n",
    "  ans=numerator/denominator\n",
    "print(numerator,'/',denominator,'=',ans)\n",
    "print('Over')"
   ]
  },
  {
   "cell_type": "code",
   "execution_count": 9,
   "metadata": {},
   "outputs": [
    {
     "name": "stdout",
     "output_type": "stream",
     "text": [
      "請輸入分子：125\n",
      "請輸入分母：25\n",
      "125 / 25 = 5.0\n",
      "Over\n"
     ]
    }
   ],
   "source": [
    "#5-8.py\n",
    "numerator=eval(input('請輸入分子：'))\n",
    "denominator=eval(input('請輸入分母：'))\n",
    "if denominator !=0:\n",
    "    ans=numerator/denominator\n",
    "    print(numerator,'/',denominator,'=',ans)\n",
    "print('Over')"
   ]
  },
  {
   "cell_type": "code",
   "execution_count": 11,
   "metadata": {},
   "outputs": [
    {
     "ename": "SyntaxError",
     "evalue": "invalid syntax (<ipython-input-11-3bf9918becb0>, line 3)",
     "output_type": "error",
     "traceback": [
      "\u001b[1;36m  File \u001b[1;32m\"<ipython-input-11-3bf9918becb0>\"\u001b[1;36m, line \u001b[1;32m3\u001b[0m\n\u001b[1;33m    if number %5=0:\u001b[0m\n\u001b[1;37m                ^\u001b[0m\n\u001b[1;31mSyntaxError\u001b[0m\u001b[1;31m:\u001b[0m invalid syntax\n"
     ]
    }
   ],
   "source": [
    "#5-9.py\n",
    "number=eval(input('Please input a number:'))\n",
    "if number %5=0:\n",
    "    print(number,\"is5's multiple\")\n",
    "print('Over')"
   ]
  },
  {
   "cell_type": "code",
   "execution_count": 12,
   "metadata": {},
   "outputs": [
    {
     "name": "stdout",
     "output_type": "stream",
     "text": [
      "Please input a number：5\n",
      "5 is 5's multiple\n",
      "Over\n"
     ]
    }
   ],
   "source": [
    "#5-10.py\n",
    "number=eval(input('Please input a number：'))\n",
    "if number%5==0:\n",
    "    print(number,\"is 5's multiple\")\n",
    "print('Over')"
   ]
  },
  {
   "cell_type": "code",
   "execution_count": 13,
   "metadata": {},
   "outputs": [
    {
     "name": "stdout",
     "output_type": "stream",
     "text": [
      "請輸入分子：125\n",
      "請輸入分母：25\n",
      "125 / 25 = 5.0\n",
      "Over\n"
     ]
    }
   ],
   "source": [
    "#5-11.py\n",
    "numerator=eval(input('請輸入分子：'))\n",
    "denominator=eval(input('請輸入分母：'))\n",
    "if denominator!=0:\n",
    "    ans=numerator/denominator\n",
    "    print(numerator,'/',denominator,'=',ans)\n",
    "else:\n",
    "    print('分母不可為0')\n",
    "print('Over')"
   ]
  },
  {
   "cell_type": "code",
   "execution_count": 14,
   "metadata": {},
   "outputs": [
    {
     "name": "stdout",
     "output_type": "stream",
     "text": [
      "請輸入分子：125\n",
      "請輸入分母：0\n",
      "分母不可為0\n",
      "Over\n"
     ]
    }
   ],
   "source": [
    "numerator=eval(input('請輸入分子：'))\n",
    "denominator=eval(input('請輸入分母：'))\n",
    "if denominator!=0:\n",
    "    ans=numerator/denominator\n",
    "    print(numerator,'/',denominator,'=',ans)\n",
    "else:\n",
    "    print('分母不可為0')\n",
    "print('Over')"
   ]
  },
  {
   "cell_type": "code",
   "execution_count": 15,
   "metadata": {},
   "outputs": [
    {
     "ename": "SyntaxError",
     "evalue": "invalid syntax (<ipython-input-15-2ddcbcee1c56>, line 5)",
     "output_type": "error",
     "traceback": [
      "\u001b[1;36m  File \u001b[1;32m\"<ipython-input-15-2ddcbcee1c56>\"\u001b[1;36m, line \u001b[1;32m5\u001b[0m\n\u001b[1;33m    else\u001b[0m\n\u001b[1;37m        ^\u001b[0m\n\u001b[1;31mSyntaxError\u001b[0m\u001b[1;31m:\u001b[0m invalid syntax\n"
     ]
    }
   ],
   "source": [
    "#5-13-1.py\n",
    "num=eval(input('Please input a number:'))\n",
    "if num%2==0:\n",
    "    print(num,'is an even number.')\n",
    "else\n",
    "print(num,;'is an even number.')\n",
    "print('Over')"
   ]
  },
  {
   "cell_type": "code",
   "execution_count": 17,
   "metadata": {},
   "outputs": [
    {
     "name": "stdout",
     "output_type": "stream",
     "text": [
      "Please input a number:88\n",
      "88 is an even number.\n",
      "Over\n"
     ]
    }
   ],
   "source": [
    "#5-13-2.py\n",
    "num=eval(input('Please input a number:'))\n",
    "if num%2==0:\n",
    "    print(num,'is an even number.')\n",
    "else:\n",
    "    print(num,'is an even number.')\n",
    "print('Over')"
   ]
  },
  {
   "cell_type": "code",
   "execution_count": 18,
   "metadata": {},
   "outputs": [
    {
     "name": "stdout",
     "output_type": "stream",
     "text": [
      "Please input a number:20\n",
      "20 is greater than 0\n",
      "Over\n"
     ]
    }
   ],
   "source": [
    "#5-15.py\n",
    "number=eval(input('Please input a number:'))\n",
    "if number>0:\n",
    "    print(number,'is greater than 0')\n",
    "else:\n",
    "    if number<0:\n",
    "        print(number,'is less than 0')\n",
    "    else:\n",
    "        print(number,'is equal to 0')\n",
    "print('Over')"
   ]
  },
  {
   "cell_type": "code",
   "execution_count": null,
   "metadata": {},
   "outputs": [],
   "source": []
  }
 ],
 "metadata": {
  "kernelspec": {
   "display_name": "Python 3",
   "language": "python",
   "name": "python3"
  },
  "language_info": {
   "codemirror_mode": {
    "name": "ipython",
    "version": 3
   },
   "file_extension": ".py",
   "mimetype": "text/x-python",
   "name": "python",
   "nbconvert_exporter": "python",
   "pygments_lexer": "ipython3",
   "version": "3.8.3"
  }
 },
 "nbformat": 4,
 "nbformat_minor": 4
}
